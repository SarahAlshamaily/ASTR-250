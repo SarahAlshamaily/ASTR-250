{
 "cells": [
  {
   "cell_type": "markdown",
   "metadata": {},
   "source": [
    "* * *\n",
    "# Distance to the Hyades star cluster\n",
    "* * *"
   ]
  },
  {
   "cell_type": "markdown",
   "metadata": {},
   "source": [
    "This notebook contains the calculations for the Hyades star cluster lab. \n",
    "\n",
    "Reminder: run (execute) cells with *SHIFT*-*ENTER*. This works for both code and markdown cells. "
   ]
  },
  {
   "cell_type": "markdown",
   "metadata": {},
   "source": [
    "## Setup: Import Python modules and packages\n",
    "\n",
    "The following code imports the Python 3 modules and packages that you will need for these calculations.\n",
    "\n",
    "Run this cell without editing it. "
   ]
  },
  {
   "cell_type": "code",
   "execution_count": 2,
   "metadata": {},
   "outputs": [],
   "source": [
    "# in this lab we only need to import numpy\n",
    "import numpy as np"
   ]
  },
  {
   "cell_type": "markdown",
   "metadata": {},
   "source": [
    "## Analysis"
   ]
  },
  {
   "cell_type": "markdown",
   "metadata": {},
   "source": [
    "### Step 1: Find the Convergence Point.\n",
    "\n",
    "Enter the values that you measured in Step 1. \n",
    "\n",
    "Enter RA in decimal hours (e.g., 3h17m would be converte to to 3.28). Enter Dec in decimal degrees. "
   ]
  },
  {
   "cell_type": "code",
   "execution_count": 3,
   "metadata": {},
   "outputs": [],
   "source": [
    "# Location of the convergence point\n",
    "RA_cp = 6.66 # in decimal hours\n",
    "Dec_cp = 11.0 # in decimal degrees\n",
    "\n",
    "# Error on the location\n",
    "RA_cp_err = 0.083 # in decimal hours\n",
    "Dec_cp_err = 1.2 # in decimal hours\n"
   ]
  },
  {
   "cell_type": "markdown",
   "metadata": {},
   "source": [
    "### Step 2: Measure Angles.\n",
    "\n",
    "In this step, we will use the positions of the 10 labeled stars to calculate the angle between each star and the convergence point. \n",
    "\n",
    "First: enter the locations of the 10 labelled stars.\n",
    "For RA use decimal hours, and for Dec use decimal degrees"
   ]
  },
  {
   "cell_type": "code",
   "execution_count": 4,
   "metadata": {},
   "outputs": [],
   "source": [
    "# Location of the 10 labelled stars (in RA and Dec)\n",
    "# Format as lists. E.g. RA_stars = [RA1, RA2, RA3..., RA10]\n",
    "RA_stars = [3.50,4.80,4.18,4.20,4.22,4.35,4.42,4.47,5.0,5.8] # comma separated list, in decimal hours\n",
    "Dec_stars = [17,19,16.5,17.8,17,15,11,10.5,21.7,9.8] # comma separated list, in decimal degrees"
   ]
  },
  {
   "cell_type": "markdown",
   "metadata": {},
   "source": [
    "To calculate the angles, we need to convert RA and Dec to radians. \n",
    "\n",
    "Math operations in Python are simplest when data are formatted as *arrays* rather than lists. We will first convert our position data into arrays, then define conversion factors to convert RA and Dec into radians.\n",
    "\n",
    "When multiplying and dividing by numbers in Python, it is important to convert any integers into floats (numbers that can have decimal points). So, for example, instead of writing\n",
    "\n",
    "*deg2rad = np.pi / 180* \n",
    "\n",
    "you would use \n",
    "\n",
    "*deg2rad = np.pi / 180.0* \n",
    "\n",
    "or, more simply, \n",
    "\n",
    "*deg2rad = np.pi / 180.*"
   ]
  },
  {
   "cell_type": "code",
   "execution_count": 5,
   "metadata": {},
   "outputs": [
    {
     "name": "stdout",
     "output_type": "stream",
     "text": [
      "Central position of Hyades = mean RA, Dec of the 10 stars\n",
      "Mean RA [rad]: 1.176526\n",
      "Mean Dec [rad]: 0.271050\n",
      "\n",
      "\n",
      "Convergence point:\n",
      "RA [rad]: 1.743584\n",
      "Dec [rad]: 0.191986\n"
     ]
    }
   ],
   "source": [
    "# convert positions into arrays\n",
    "RA_stars = np.array(RA_stars)\n",
    "Dec_stars = np.array(Dec_stars)\n",
    "\n",
    "# conversion factors for RA (h to rad) and Dec (deg to rad)\n",
    "h2deg = 15.\n",
    "deg2rad = np.pi / 180.\n",
    "h2rad = h2deg * deg2rad\n",
    "\n",
    "# convert RA of convergence point and star locations to rad\n",
    "RA_cp_rad = RA_cp * h2rad\n",
    "RA_cp_err_rad = RA_cp_err * h2rad\n",
    "RA_stars_rad = RA_stars * h2rad\n",
    "\n",
    "# convert Dec of convergence point and star locations to rad\n",
    "Dec_cp_rad = Dec_cp * deg2rad\n",
    "Dec_cp_err_rad = Dec_cp_err * deg2rad\n",
    "Dec_stars_rad = Dec_stars * deg2rad\n",
    "\n",
    "# centre of Hyades = mean RA, Dec of the 10 stars\n",
    "RA_ctr = np.mean(RA_stars_rad)\n",
    "Dec_ctr = np.mean(Dec_stars_rad)\n",
    "\n",
    "# print out results to check your work - note the syntax!\n",
    "print('Central position of Hyades = mean RA, Dec of the 10 stars')\n",
    "print('Mean RA [rad]: %.6f' %(RA_ctr))\n",
    "print('Mean Dec [rad]: %.6f' %(Dec_ctr))\n",
    "print('\\n')  # line break\n",
    "print('Convergence point:')\n",
    "print('RA [rad]: %.6f' %(RA_cp_rad))\n",
    "print('Dec [rad]: %.6f' %(Dec_cp_rad))"
   ]
  },
  {
   "cell_type": "markdown",
   "metadata": {},
   "source": [
    "**Check your answers:** If you have done your measurements and calculations correctly, your answers should be close to these values. There will always be measurement error, so your answers will not match perfectly!\n",
    "\n",
    "  * Central position of Hyades (in radians): RA 1.18, Dec 0.27.\n",
    "  * Convergence point (in radians): RA 1.72, Dec 0.18."
   ]
  },
  {
   "cell_type": "markdown",
   "metadata": {},
   "source": [
    "### Use spherical trigonometry to calculate the angles.\n",
    "\n",
    "We will use a formula from spherical trigonometry to calculate the angles between the stars' positions and the convergence point. This is referred to as the *angle of sight* in the manual.\n",
    "\n",
    "Given RA ($\\alpha$) and Dec ($\\delta$), in radians, the angle of sight $\\theta$ can be calculated from: \n",
    "\n",
    "$\\large \\cos(\\theta) = \\sin(\\delta) \\cdot \\sin(\\delta_{cp}) + \\cos(\\delta) \\cdot \\cos(\\delta_{cp}) \\cdot \\cos(\\alpha - \\alpha_{cp})$\n",
    "\n",
    "\n",
    "where the subscript *cp* refers to the convergence point.  \n",
    "\n",
    "We will use the trigonometric functions in the numpy package to do these calculations. "
   ]
  },
  {
   "cell_type": "code",
   "execution_count": 6,
   "metadata": {},
   "outputs": [
    {
     "name": "stdout",
     "output_type": "stream",
     "text": [
      "mean value of cos(theta): 0.837985\n",
      "mean value of theta: 0.560561\n",
      "[0.80765617 0.4898881  0.6369904  0.63386648 0.6276329  0.59277155\n",
      " 0.57534569 0.56306722 0.45597712 0.22241714]\n"
     ]
    }
   ],
   "source": [
    "# Calculate the individual terms for the angular distance equation\n",
    "\n",
    "sin_delta = np.sin(Dec_stars_rad)\n",
    "sin_delta_cp = np.sin(Dec_cp_rad)\n",
    "\n",
    "cos_delta = np.cos(Dec_stars_rad)\n",
    "cos_delta_cp = np.cos(Dec_cp_rad)\n",
    "cos_alphas = np.cos(RA_stars_rad - RA_cp_rad)\n",
    "\n",
    "# Plug these terms into the equation\n",
    "term1 = sin_delta * sin_delta_cp\n",
    "term2 = cos_delta * cos_delta_cp * cos_alphas\n",
    "cos_theta = term1 + term2\n",
    "\n",
    "# solve for theta\n",
    "theta = np.arccos(cos_theta)\n",
    "\n",
    "# print out the mean values to check your work\n",
    "print('mean value of cos(theta): %.6f' %(np.mean(cos_theta)))\n",
    "print('mean value of theta: %.6f' %(np.mean(theta)))\n",
    "print(theta)"
   ]
  },
  {
   "cell_type": "markdown",
   "metadata": {},
   "source": [
    "**Check your answers:** If you have done your measurements and calculations correctly, your answers should be close to these values. There will always be measurement error, so your answers will not match perfectly!\n",
    "\n",
    "  * cos(theta) = 0.86\n",
    "  * theta = 0.54 rad\n",
    "  \n",
    "**Enter your results in a table**, as described in the manual. The following cell prints out the calculated angles for each star. Use this code as an example to print more results later. Experiment with changing the code - e.g. adjust *%.6f* to change the number of printed decimal points. \n",
    "\n",
    "#### NOTE HOW TO PRINT A LIST OF NUMBERS, YOU WILL NEED THIS LATER"
   ]
  },
  {
   "cell_type": "code",
   "execution_count": 7,
   "metadata": {},
   "outputs": [
    {
     "name": "stdout",
     "output_type": "stream",
     "text": [
      "The calculated values of theta are:\n",
      "0.81\n",
      "0.49\n",
      "0.64\n",
      "0.63\n",
      "0.63\n",
      "0.59\n",
      "0.58\n",
      "0.56\n",
      "0.46\n",
      "0.22\n"
     ]
    }
   ],
   "source": [
    "print('The calculated values of theta are:')\n",
    "for value in theta:\n",
    "    print('%.2f' %(value))"
   ]
  },
  {
   "cell_type": "markdown",
   "metadata": {},
   "source": [
    "### STEP 3: Calculate the distance to Hyades.\n",
    "\n",
    "Use the proper motions and radial velocities of these 10 stars (from Table 1.1 in the manual), and Equation 1.3, to calculate the distance to Hyades.\n",
    "\n",
    "#### IMPORTANT: THIS CELL IS THE PYTHON PROGRAM FOR EQUATION 1.3 IN YOUR MANUAL. LEARN HOW TO CONVERT AN EQUATION TO PYTHON CODE"
   ]
  },
  {
   "cell_type": "code",
   "execution_count": 8,
   "metadata": {},
   "outputs": [
    {
     "name": "stdout",
     "output_type": "stream",
     "text": [
      "mean distance to Hyades: 49.702137 pc\n"
     ]
    }
   ],
   "source": [
    "# For your convenience, the values from Table 1.1 have been entered \n",
    "# in the following two lists.\n",
    "# If you have done all the previous steps, you can simply run this cell.\n",
    "\n",
    "rad_vel = [31.6,31.0,36.6,38.3,43.8,38.2,39.3,38.6,43.6,38.8] ## km/s\n",
    "prop_mtn = [0.147,0.1278,0.1267,0.1115,0.1029,0.0886,0.0998,0.0880,0.0801,0.0640] # arcsec/y\n",
    "\n",
    "# convert lists to arrays for multiplication\n",
    "rad_vel = np.array(rad_vel)\n",
    "prop_mtn = np.array(prop_mtn)\n",
    "\n",
    "tan_theta = np.tan(theta)\n",
    "numerator = rad_vel * tan_theta\n",
    "denominator = 4.74 * prop_mtn\n",
    "\n",
    "d_pc = numerator / denominator\n",
    "\n",
    "# print out the mean distance to check your work\n",
    "print('mean distance to Hyades: %.6f pc' %(np.mean(d_pc)))\n"
   ]
  },
  {
   "cell_type": "markdown",
   "metadata": {},
   "source": [
    "**Check your answers:** For comparison, the distance to Hyades from published literature = 46.34 +/- 0.27 pc [Perryman et.al., 1998, A&A, 331].\n",
    "More, recently, GAIA DR2 analysis puts the distance at 47.03+/- 0.2 pc [https://ui.adsabs.harvard.edu/abs/2019A&A...623A..35L/abstract]\n",
    "\n",
    "#### Using the example from Step 2, print out the distances to each star and then enter them in your table. "
   ]
  },
  {
   "cell_type": "code",
   "execution_count": 9,
   "metadata": {},
   "outputs": [
    {
     "name": "stdout",
     "output_type": "stream",
     "text": [
      "The calculated distances are:\n",
      "47.4\n",
      "27.3\n",
      "45.1\n",
      "53.3\n",
      "65.2\n",
      "61.3\n",
      "53.9\n",
      "58.4\n",
      "56.3\n",
      "28.9\n"
     ]
    }
   ],
   "source": [
    "# print your distances here\n",
    "print('The calculated distances are:')\n",
    "# NEEDS TWO LINES OF CODE\n",
    "for d in d_pc:\n",
    "    print('%.1f' %(d))"
   ]
  },
  {
   "cell_type": "markdown",
   "metadata": {},
   "source": [
    "### STEP 4: Estimate uncertainties. \n",
    "\n",
    "Estimate the uncertainty in the distance due to the uncertainty in the radial velocity, the uncertainty in the proper motion, and your inability to precisely determine the convergent point. Add these values to your table.\n",
    "\n",
    "#### WE WILL USE ONLY THE SIMPLE WAY OF ESTIMATING THE UNCERTAINTY IN THE DISTANCE BY ADDING AND SUBTRACTING THE UNCERTAINTIES IN EACH QUANTITY, AND RECALCULATING THE DISTANCE.\n",
    "\n",
    "#### HOWEVER, YOUR TA WILL ALSO TEACH YOU THE PROPER WAY OF CALCULATING UNCERTAINTIES. THIS WILL BE USED IN LATER LAB EXERCISES."
   ]
  },
  {
   "cell_type": "code",
   "execution_count": 12,
   "metadata": {},
   "outputs": [
    {
     "name": "stdout",
     "output_type": "stream",
     "text": [
      "cp after adding the uncertainty:\n",
      "RA [rad]: 1.765313\n",
      "Dec [rad]: 0.212930\n",
      "mean value of cos(theta): 0.829064\n",
      "mean value of theta: 0.560561\n",
      "The calculated values of theta after adding the uncertainty are:\n",
      "0.807656\n",
      "0.489888\n",
      "0.636990\n",
      "0.633866\n",
      "0.627633\n",
      "0.592772\n",
      "0.575346\n",
      "0.563067\n",
      "0.455977\n",
      "0.222417\n",
      " 47.906198\n",
      " 27.556088\n",
      " 45.419725\n",
      " 53.578745\n",
      " 65.385485\n",
      " 61.515204\n",
      " 54.130389\n",
      " 58.637239\n",
      " 56.403361\n",
      " 28.936948\n"
     ]
    }
   ],
   "source": [
    "# calculate the uncertainties here\n",
    "#Error on star location\n",
    "RA_cp_add=RA_cp+RA_cp_err #in decmial hours\n",
    "Dec_cp_add=Dec_cp+Dec_cp_err #in decmial degrees\n",
    "\n",
    "RA_stars=np.array(RA_stars)\n",
    "Dec_stars=np.array(Dec_stars)\n",
    "\n",
    "#Conversion factors for RA (h to rad) and Dec (deg to rad)\n",
    "h2deg=15.\n",
    "deg2rad=np.pi/180.\n",
    "h2rad=h2deg*deg2rad\n",
    "\n",
    "#Convert RA of cp and star locations to rad\n",
    "RA_cp_rad_add=RA_cp_add*h2rad\n",
    "\n",
    "#Convert Dec of cp and star locations to rad\n",
    "Dec_cp_rad_add=Dec_cp_add*deg2rad\n",
    "\n",
    "# print out the results.\n",
    "print('cp after adding the uncertainty:')\n",
    "print('RA [rad]: %.6f' %(RA_cp_rad_add))\n",
    "print('Dec [rad]: %.6f' %(Dec_cp_rad_add))\n",
    "\n",
    "#Calculate the individual terms for the angular distance equation\n",
    "sin_delta=np.sin(Dec_stars_rad)\n",
    "sin_delta_cp=np.sin(Dec_cp_rad_add)\n",
    "cos_delta=np.cos(Dec_cp_rad_add)\n",
    "cos_alphas=np.cos(RA_stars_rad-RA_cp_rad_add)\n",
    "\n",
    "#Plug these terms into the equation\n",
    "term1=sin_delta*sin_delta_cp\n",
    "term2=cos_delta*cos_delta_cp*cos_alphas\n",
    "cos_theta_add=term1+term2\n",
    "sin_delta=np.sin(Dec_stars_rad)\n",
    "sin_delta_cp=np.sin(Dec_cp_rad_add)\n",
    "cos_delta=np.cos(Dec_stars_rad)\n",
    "cos_delta_cp=np.cos(Dec_cp_rad_add)\n",
    "cos_alphas=np.cos(RA_stars_rad-RA_cp_rad_add)\n",
    "\n",
    "#Plug these terms into the equation\n",
    "term1=sin_delta*sin_delta_cp\n",
    "term2=cos_delta*cos_delta_cp*cos_alphas\n",
    "cos_theta_add=term1+term2\n",
    "\n",
    "#Solve for theta\n",
    "theta_add=np.arccos(cos_theta)\n",
    "\n",
    "#Print out the mean values to check your work\n",
    "print('mean value of cos(theta): %.6f' %(np.mean(cos_theta_add)))\n",
    "print('mean value of theta: %.6f' %(np.mean(theta_add)))\n",
    "print('The calculated values of theta after adding the uncertainty are:')\n",
    "for value in theta_add:\n",
    "    print('%.6f' %(value))\n",
    "\n",
    "#Calculate Uncertainties here\n",
    "rad_vel_add=rad_vel+0.5 #km/sec\n",
    "prop_mtn_add=prop_mtn+0.0008 #arcsec/yr\n",
    "tan_theta_add=np.tan(theta_add)\n",
    "numerator=rad_vel_add*tan_theta_add\n",
    "denominator=4.74*prop_mtn_add\n",
    "d_pc_add=numerator/denominator\n",
    "for value in d_pc_add:\n",
    "    print(' %.6f' %(value))"
   ]
  },
  {
   "cell_type": "markdown",
   "metadata": {},
   "source": [
    "### STEP 5: Find the average distance. \n",
    "\n",
    "Average the distances calculated for each star, calculate the standard deviation, and find the uncertainty in the mean. "
   ]
  },
  {
   "cell_type": "code",
   "execution_count": 13,
   "metadata": {},
   "outputs": [
    {
     "name": "stdout",
     "output_type": "stream",
     "text": [
      " 0.489549\n",
      " 0.267641\n",
      " 0.329205\n",
      " 0.310980\n",
      " 0.235381\n",
      " 0.246504\n",
      " 0.251570\n",
      " 0.223588\n",
      " 0.082551\n",
      " 0.011045\n"
     ]
    }
   ],
   "source": [
    "uncertainty_d_pc_add=d_pc_add-d_pc\n",
    "for value in uncertainty_d_pc_add:\n",
    "    print(' %.6f' %(value))"
   ]
  },
  {
   "cell_type": "code",
   "execution_count": null,
   "metadata": {},
   "outputs": [],
   "source": []
  },
  {
   "cell_type": "code",
   "execution_count": null,
   "metadata": {},
   "outputs": [],
   "source": []
  },
  {
   "cell_type": "code",
   "execution_count": null,
   "metadata": {},
   "outputs": [],
   "source": []
  }
 ],
 "metadata": {
  "kernelspec": {
   "display_name": "Python 3",
   "language": "python",
   "name": "python3"
  },
  "language_info": {
   "codemirror_mode": {
    "name": "ipython",
    "version": 3
   },
   "file_extension": ".py",
   "mimetype": "text/x-python",
   "name": "python",
   "nbconvert_exporter": "python",
   "pygments_lexer": "ipython3",
   "version": "3.6.8"
  }
 },
 "nbformat": 4,
 "nbformat_minor": 2
}
