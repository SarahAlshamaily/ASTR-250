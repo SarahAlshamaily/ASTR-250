{
 "cells": [
  {
   "cell_type": "markdown",
   "metadata": {},
   "source": [
    "# Characteristics of a CCD: Image Reduction\n",
    "\n",
    "This notebook carries out the cleaning, calibration and analysis of the data taken at the observatory "
   ]
  },
  {
   "cell_type": "markdown",
   "metadata": {},
   "source": [
    "## Setup\n",
    "\n",
    "The following two code cells import the material you will need for this lab: first the Python 3 modules and packages, and then the data files. You only need to do these steps once. \n",
    "\n",
    "Run these cells without editing them. Reminder: run (execute) cells with *SHIFT*-*ENTER*. This works for both code and markdown cells. \n",
    "\n",
    "### IMPORTANT Check that you have adequate disk space in your Syzygy home dir before you download the data. Ask your TA for help regarding this, if you are unsure how to do this. \n",
    "### IF YOU EXCEED YOUR DISK QUOTA, YOU WILL BE LOCKED OUT OF SYZYGY!"
   ]
  },
  {
   "cell_type": "markdown",
   "metadata": {},
   "source": [
    "### Import Python modules and packages\n"
   ]
  },
  {
   "cell_type": "code",
   "execution_count": 2,
   "metadata": {},
   "outputs": [],
   "source": [
    "# common/useful python packages\n",
    "import numpy as np\n",
    "import matplotlib.pyplot as plt\n",
    "import os\n",
    "\n",
    "# package to read and interpret fits files\n",
    "import astropy.io.fits as pyfits\n",
    "from astropy.stats import sigma_clipped_stats\n",
    "\n",
    "# photometry packages\n",
    "import photutils\n",
    "\n",
    "# helper packages for accessing data \n",
    "import urllib, zipfile, tarfile, glob\n",
    "from urllib.request import urlretrieve\n",
    "import warnings\n",
    "\n",
    "## uncomment and run the following command once to test photutils\n",
    "## photutils.test()\n",
    "\n",
    "## plotting packages\n",
    "import matplotlib.pyplot as plt\n",
    "import matplotlib.pylab as plab\n",
    "from astropy.visualization import astropy_mpl_style\n",
    "from astropy.visualization import simple_norm\n",
    "from astropy.visualization.mpl_normalize import ImageNormalize\n",
    "plt.style.use(astropy_mpl_style)\n",
    "from skimage import data, img_as_float\n",
    "from skimage import exposure\n"
   ]
  },
  {
   "cell_type": "markdown",
   "metadata": {},
   "source": [
    "### Load Data"
   ]
  },
  {
   "cell_type": "code",
   "execution_count": 3,
   "metadata": {},
   "outputs": [
    {
     "name": "stdout",
     "output_type": "stream",
     "text": [
      "Lab data directory: CCDlab_data\n",
      "List of available files:\n",
      "pflat-64.SPE.fits\n",
      "flat-01.SPE.fits\n",
      "pflat-512.SPE.fits\n",
      "pflat-128.SPE.fits\n",
      "masterFLAT.fits\n",
      "flat-16.SPE.fits\n",
      "masterBIAS.fits\n",
      "dark-1800s.fits\n",
      "pflat-04.SPE.fits\n",
      "pflat-02.SPE.fits\n",
      "pflat-1024.SPE.fits\n",
      "flat-128.SPE.fits\n",
      "flat-512.SPE.fits\n",
      "pflat-32.SPE.fits\n",
      "flat-08.SPE.fits\n",
      "pflat-2048.SPE.fits\n",
      "flat-256.SPE.fits\n",
      "flat-04.SPE.fits\n",
      "pflat-16.SPE.fits\n",
      "pflat-01.SPE.fits\n",
      "flat-64.SPE.fits\n",
      "pflat-256.SPE.fits\n",
      "flat-2048.SPE.fits\n",
      "pflat-08.SPE.fits\n",
      "flat-32.SPE.fits\n",
      "flat-02.SPE.fits\n",
      "flat-1024.SPE.fits\n"
     ]
    }
   ],
   "source": [
    "# Check if data dir exists. If not, retrieve data from UVic website.\n",
    "# Data is retrieved as a tarball and untarred in your home directory.\n",
    "\n",
    "datadir = 'CCDlab_data'\n",
    "\n",
    "if not(os.path.exists(datadir) and os.path.isdir(datadir)):\n",
    "    url = 'http://astrowww.phys.uvic.ca/~astrolab/AstroLabs/A250/CCDlab/'\n",
    "    tgz = datadir+'.tgz'\n",
    "    urlretrieve(url+tgz, filename=tgz)\n",
    "    tar = tarfile.open(tgz)\n",
    "    tar.extractall()\n",
    "    tar.close()\n",
    "\n",
    "# Print out details\n",
    "print('Lab data directory: '+datadir)\n",
    "print('List of available files:')\n",
    "file_list = os.listdir(datadir)\n",
    "for file in file_list:\n",
    "    print(file)    \n",
    "\n",
    "# ignore any warnings (they are mostly due to unexpected \n",
    "# formatting in the fits files' headers)\n",
    "warnings.filterwarnings('ignore', category=UserWarning, append=True)"
   ]
  },
  {
   "cell_type": "markdown",
   "metadata": {},
   "source": [
    "# Data Analysis\n",
    "\n",
    "The analysis process is outlined in your manual's procedure. Refer to it as a road map as you work through the remainder of this notebook."
   ]
  },
  {
   "cell_type": "markdown",
   "metadata": {},
   "source": [
    "## STEP 0: Gather File Metadata\n",
    "\n",
    "The files above (in *file\\_list*) are listed in random order. You may find it helpful to look in the data directory itself, which has been created in your account as *CCDLab\\_data*, and lists the files in alphabetical order.\n",
    "\n",
    "All of these files are *fits files*, which is a data format that includes a header containing useful information about the image. \n",
    "\n",
    "**File Name Conventions**\n",
    "\n",
    "  1. The raw (unprocessed) images are named *flat-\\*\\*.SPE.fits*.\n",
    "  2. *masterBias.fits* is the bias image.\n",
    "  3. *masterFlat.fits* is the flat field image.\n",
    "  4. *dark-1800s.fits* is the dark image.\n",
    "\n",
    "\n",
    "#### Accessing data and getting basic info.\n",
    "\n",
    "The first step is to access the data files (images) and print out some basic information about them. The following cells introduce how to do this.\n",
    "\n",
    "The next cell loads a sample file, *flat-01.SPE.fits*, and retrieves some basic information about it.  The information is retrieved using the function *info* from the package *astropy.io.fits,* which we have imported under the name *pyfits*."
   ]
  },
  {
   "cell_type": "code",
   "execution_count": 4,
   "metadata": {},
   "outputs": [
    {
     "name": "stdout",
     "output_type": "stream",
     "text": [
      "Filename: CCDlab_data/flat-32.SPE.fits\n",
      "No.    Name      Ver    Type      Cards   Dimensions   Format\n",
      "  0  PRIMARY       1 PrimaryHDU      13   (2048, 2048)   int16   \n"
     ]
    }
   ],
   "source": [
    "# create a path to the file\n",
    "filename = 'flat-32.SPE.fits'\n",
    "fits_path = datadir + '/' + filename\n",
    "\n",
    "# get file info\n",
    "pyfits.info(fits_path)"
   ]
  },
  {
   "cell_type": "markdown",
   "metadata": {},
   "source": [
    "**Exercise:** Try changing the filename in the above cell. Do you get the same kind of information?\n",
    "\n",
    "We will now learn to access the *fits header*, which contains important information such as the image size and exposure time."
   ]
  },
  {
   "cell_type": "code",
   "execution_count": 5,
   "metadata": {},
   "outputs": [
    {
     "name": "stdout",
     "output_type": "stream",
     "text": [
      "Filename       X-size  Y-size  Exp Time[s]\n",
      "flat-32.SPE.fits    2048    2048       3.2\n"
     ]
    }
   ],
   "source": [
    "# read header for the file from the previous cell\n",
    "header = pyfits.getheader(fits_path,ext=0)\n",
    "\n",
    "# get a few pieces of information\n",
    "naxis1 = header['NAXIS1'] # x-dimension \n",
    "naxis2 = header['NAXIS2'] # y-dimension\n",
    "etime = header['EXPTIME'] # exposure time\n",
    "\n",
    "# print results\n",
    "print('Filename       X-size  Y-size  Exp Time[s]')\n",
    "print('%s %7d %7d %9.1f' % (filename,naxis1,naxis2,etime))"
   ]
  },
  {
   "cell_type": "markdown",
   "metadata": {},
   "source": [
    "#### Get header information for all of the raw observations. \n",
    "\n",
    "In the following cell, create a list of the raw files' names, then get the x,y sizes and exposure times for each. Print your results as you go.\n",
    "\n",
    "The code to create a file list is provided as an example. Fill in the rest of the cell yourself.  "
   ]
  },
  {
   "cell_type": "code",
   "execution_count": 6,
   "metadata": {},
   "outputs": [
    {
     "name": "stdout",
     "output_type": "stream",
     "text": [
      "    Filename                    X-size  Y-size  Exp Time[s]\n",
      "CCDlab_data/flat-01.SPE.fits      2048    2048       0.1\n",
      "CCDlab_data/flat-16.SPE.fits      2048    2048       1.6\n",
      "CCDlab_data/flat-128.SPE.fits     2048    2048      12.8\n",
      "CCDlab_data/flat-512.SPE.fits     2048    2048      51.2\n",
      "CCDlab_data/flat-08.SPE.fits      2048    2048       0.8\n",
      "CCDlab_data/flat-256.SPE.fits     2048    2048      25.6\n",
      "CCDlab_data/flat-04.SPE.fits      2048    2048       0.4\n",
      "CCDlab_data/flat-64.SPE.fits      2048    2048       6.4\n",
      "CCDlab_data/flat-2048.SPE.fits    2048    2048     204.8\n",
      "CCDlab_data/flat-32.SPE.fits      2048    2048       3.2\n",
      "CCDlab_data/flat-02.SPE.fits      2048    2048       0.2\n",
      "CCDlab_data/flat-1024.SPE.fits    2048    2048     102.4\n"
     ]
    }
   ],
   "source": [
    "# list of file names (raw images only)\n",
    "# you could type them all by hand, but this is faster:\n",
    "raw_file_list = glob.glob(datadir + '/' +'flat-*.SPE.fits')\n",
    "\n",
    "# print heading for results    \n",
    "print('    Filename                    X-size  Y-size  Exp Time[s]')\n",
    "\n",
    "# get the sizes and exposure times for all the files in the list:\n",
    "for filename in raw_file_list:\n",
    "    header = pyfits.getheader(filename,ext=0)\n",
    "    naxis1 = header['NAXIS1']\n",
    "    naxis2 = header['NAXIS2']\n",
    "    etime = header['EXPTIME'] \n",
    "    print('%-30s %7d %7d %9.1f' % (filename,naxis1,naxis2,etime))\n"
   ]
  },
  {
   "cell_type": "markdown",
   "metadata": {},
   "source": [
    "## **Dark frame and cosmic rays**\n",
    "\n",
    "We will first inspect a dark frame to see the effect of *hot* pixels. At the same, we will also estimate the number of cosimic ray strikes on the CCD."
   ]
  },
  {
   "cell_type": "code",
   "execution_count": 7,
   "metadata": {},
   "outputs": [
    {
     "name": "stdout",
     "output_type": "stream",
     "text": [
      "Exposure time of dark frame[s]: 1800.0\n",
      "\n",
      "Sig clipped mean, med and sdev: 448.6 454.0 32.2\n",
      "\n",
      "Total number of pixels in CCD: 4194304\n",
      "\n",
      "Number of hot pixels in CCD (10-50 sigma): 4254\n",
      "\n",
      "Number of CR strikes in CCD (> 50 sigma): 1514\n",
      "\n"
     ]
    },
    {
     "data": {
      "text/plain": [
       "Text(0.5, 1.0, 'CR strikes in sub-region (> 50 sigma above mean)')"
      ]
     },
     "execution_count": 7,
     "metadata": {},
     "output_type": "execute_result"
    },
    {
     "data": {
      "image/png": "[encoded data removed]",
      "text/plain": [
       "<Figure size 1080x1080 with 2 Axes>"
      ]
     },
     "metadata": {},
     "output_type": "display_data"
    }
   ],
   "source": [
    "# Read in the dark frame\n",
    "filename = 'dark-1800s.fits'\n",
    "fits_path = datadir + '/' + filename\n",
    "\n",
    "# read data into array\n",
    "dark_data = pyfits.getdata(fits_path,ext=0)\n",
    "dark_header = pyfits.getheader(fits_path, ext=0)\n",
    "\n",
    "# get the x,y size \n",
    "array_size = dark_data.shape\n",
    "etime = dark_header['EXPOSURE']\n",
    "naxis1 = dark_header['NAXIS1']\n",
    "naxis2 = dark_header['NAXIS2']\n",
    "print('Exposure time of dark frame[s]: %.1f\\n' % etime)\n",
    "\n",
    "# compute the sigma clipped mean and std dev\n",
    "sc_mean, sc_median, sc_stddev = sigma_clipped_stats(dark_data, sigma=5.0, maxiters=5)\n",
    "print('Sig clipped mean, med and sdev: %.1f %.1f %.1f\\n' % (sc_mean, sc_median, sc_stddev))\n",
    "\n",
    "# Pixels which are 10 - 50 sigma above the mean are 'hot' pixels\n",
    "# hotpix = zeros(naxis1,naxis2)\n",
    "low_cond = sc_mean + 10.*sc_stddev\n",
    "hi_cond = sc_mean + 50.*sc_stddev\n",
    "hotpix = np.where(((dark_data >= low_cond) & (dark_data < hi_cond)),1,0)\n",
    "# cosmic ray strikes are 50 sigma above the mean \n",
    "cr_cond = sc_mean + 50.*sc_stddev\n",
    "CRpix = np.where((dark_data >= cr_cond),1,0)\n",
    "\n",
    "# Print out the numbers of pixels\n",
    "print('Total number of pixels in CCD: %d\\n' % np.multiply(naxis1,naxis2))\n",
    "print('Number of hot pixels in CCD (10-50 sigma): %d\\n' % np.sum(hotpix))\n",
    "print('Number of CR strikes in CCD (> 50 sigma): %d\\n' % np.sum(CRpix))\n",
    "\n",
    "# SCALE AND DISPLAY THE RED IMAGE, and choose an appropriate sub-region for statistics\n",
    "# set up the figure environment\n",
    "fig = plt.figure(figsize=(15,15))\n",
    "# show hot pixels\n",
    "ax1 = fig.add_axes([0.05, 0.05, 0.45, 0.9])\n",
    "ax1.imshow(hotpix[1750:1850,330:430], cmap='gray_r')\n",
    "ax1.set_title('Hot Pixels in sub-region (10-50 sigma above mean)')\n",
    "# show CR strikes\n",
    "ax2 = fig.add_axes([0.55, 0.05, 0.45, 0.9])\n",
    "ax2.imshow(CRpix[1750:1850,330:430], cmap='gray_r')\n",
    "ax2.set_title('CR strikes in sub-region (> 50 sigma above mean)')\n"
   ]
  },
  {
   "cell_type": "markdown",
   "metadata": {},
   "source": [
    "## **Question 1:**\n",
    "\n",
    "\n",
    "Do you see any cosmic ray hits in your dark frame? These will appear as one- or two-pixel bright spots. How many do you see? Based on the exposure time used for the dark frame, how many hits per second is this?\n",
    "\n",
    "#### (**TYPE YOUR ANSWER HERE**)\n",
    "The cosmic rays interacted with the CCD. There were 5 hits that appeared in the dark frame."
   ]
  },
  {
   "cell_type": "markdown",
   "metadata": {},
   "source": [
    "## STEP 1: Read in an image\n",
    "\n",
    "Before we can process an image, it needs to be read into a numerical array. Then we can carry out arithmetic and statistical operations on it. \n",
    "\n",
    "The following cell reads an image, converting it to an array, and prints out some basic information about it. \n",
    "\n",
    "Try changing *flat-01.SPE.fits* to one of the other files. "
   ]
  },
  {
   "cell_type": "code",
   "execution_count": 8,
   "metadata": {},
   "outputs": [
    {
     "name": "stdout",
     "output_type": "stream",
     "text": [
      "Image Name: CCDlab_data/flat-01.SPE.fits\n",
      "Image array size: (2048, 2048)\n",
      "Number of rows: 2048\n",
      "Number of columns: 2048\n"
     ]
    }
   ],
   "source": [
    "# create a path to the file\n",
    "filename = 'flat-01.SPE.fits'\n",
    "fits_path = datadir + '/' + filename\n",
    "\n",
    "# read data into array\n",
    "image_data = pyfits.getdata(fits_path,ext=0)\n",
    "\n",
    "# get the x,y size \n",
    "array_size = image_data.shape\n",
    "\n",
    "# print out the information\n",
    "print('Image Name: '+fits_path)\n",
    "print('Image array size: '+str(array_size))\n",
    "\n",
    "# print with fancy formatting\n",
    "print('Number of rows: %d' %(array_size[0]))\n",
    "print('Number of columns: %d' %(array_size[1]))"
   ]
  },
  {
   "cell_type": "markdown",
   "metadata": {},
   "source": [
    "## STEP 2: Bias Subtraction and Flat Fielding\n",
    "\n",
    "Now that the image data is held as an array, we can do mathematical operations on it. \n",
    "\n",
    "Steps: \n",
    "\n",
    "  1. **Subtract the *bias* from each image.**\n",
    "  2. **Divide each image by the *flat field*.**\n",
    "  \n",
    "Refer to your manual for the reasoning behind these steps.\n",
    "\n",
    "#### Processing a single raw image:"
   ]
  },
  {
   "cell_type": "code",
   "execution_count": 9,
   "metadata": {},
   "outputs": [
    {
     "name": "stdout",
     "output_type": "stream",
     "text": [
      "processed image: CCDlab_data/flat-01.SPE.fits\n",
      "output image: CCDlab_data/pflat-01.SPE.fits\n"
     ]
    }
   ],
   "source": [
    "# read in the bias and flat\n",
    "bias_image = datadir + '/masterBIAS.fits'\n",
    "bias_data = pyfits.getdata(bias_image,ext=0)\n",
    "flat_image = datadir + '/masterFLAT.fits'\n",
    "flat_data = pyfits.getdata(flat_image,ext=0)\n",
    "\n",
    "# prepare a raw image for processing\n",
    "raw_image = 'flat-01.SPE.fits'\n",
    "fits_path = datadir + '/' + raw_image\n",
    "image_data = pyfits.getdata(fits_path, ext=0)\n",
    "image_header = pyfits.getheader(fits_path, ext=0)\n",
    "\n",
    "# subtract the bias, then divide by the flat\n",
    "image_data_b = image_data - bias_data\n",
    "image_data_f = image_data_b / flat_data\n",
    "# round pixel values to nearest integer\n",
    "image_data_f = np.rint(image_data_f)\n",
    "\n",
    "# save the resulting image with a new name\n",
    "out_name = 'p'+raw_image # 'p' stands for 'processed'\n",
    "out_path = datadir + '/' + out_name\n",
    "pyfits.writeto(out_path,image_data_f,header=image_header,overwrite=True)\n",
    "\n",
    "# print out file names\n",
    "print('processed image: '+fits_path)\n",
    "print('output image: '+out_path)"
   ]
  },
  {
   "cell_type": "markdown",
   "metadata": {},
   "source": [
    "#### Processing multiple images using a user defined function:\n",
    "\n",
    "Processing one image at a time is very tedious! We can define a simple function to do this for us. (We could also just put all the analysis in a loop, but making functions is easy and good practice.)\n",
    "\n",
    "The function is provided for you. Read through the code and understand how it works"
   ]
  },
  {
   "cell_type": "code",
   "execution_count": 10,
   "metadata": {},
   "outputs": [],
   "source": [
    "def image_processor(file_path,bias_data,flat_data):\n",
    "    \n",
    "    # get filename and input dir\n",
    "    indir,filename = os.path.split(file_path)\n",
    "    \n",
    "    # read in the image\n",
    "    image_data = pyfits.getdata(file_path, ext=0)\n",
    "    image_header = pyfits.getheader(file_path, ext=0)\n",
    "    \n",
    "    # subtract the bias, then divide by the flat\n",
    "    image_data_b = image_data - bias_data\n",
    "    image_data_f = image_data_b / flat_data #Because there are different amounts of electrons\n",
    "    # round pixel values to nearest integer\n",
    "    image_data_f = np.rint(image_data_f)\n",
    "\n",
    "    # save the resulting image with a new name\n",
    "    # We will just add a 'p' in front of the filename\n",
    "    # to indicate processed\n",
    "    out_name = 'p'+filename\n",
    "    out_path = indir + '/' + out_name\n",
    "    pyfits.writeto(out_path,image_data_f,header=image_header,overwrite=True)\n",
    "    \n",
    "    return out_name\n",
    "    "
   ]
  },
  {
   "cell_type": "markdown",
   "metadata": {},
   "source": [
    "#### Run the function:\n",
    "\n",
    "Loop over all the raw files, processing them with our function. The function returns the name of the processed files; we will add these names to a reference list. "
   ]
  },
  {
   "cell_type": "code",
   "execution_count": 11,
   "metadata": {},
   "outputs": [
    {
     "name": "stdout",
     "output_type": "stream",
     "text": [
      "processed CCDlab_data/flat-01.SPE.fits >> pflat-01.SPE.fits\n",
      "processed CCDlab_data/flat-16.SPE.fits >> pflat-16.SPE.fits\n",
      "processed CCDlab_data/flat-128.SPE.fits >> pflat-128.SPE.fits\n",
      "processed CCDlab_data/flat-512.SPE.fits >> pflat-512.SPE.fits\n",
      "processed CCDlab_data/flat-08.SPE.fits >> pflat-08.SPE.fits\n",
      "processed CCDlab_data/flat-256.SPE.fits >> pflat-256.SPE.fits\n",
      "processed CCDlab_data/flat-04.SPE.fits >> pflat-04.SPE.fits\n",
      "processed CCDlab_data/flat-64.SPE.fits >> pflat-64.SPE.fits\n",
      "processed CCDlab_data/flat-2048.SPE.fits >> pflat-2048.SPE.fits\n",
      "processed CCDlab_data/flat-32.SPE.fits >> pflat-32.SPE.fits\n",
      "processed CCDlab_data/flat-02.SPE.fits >> pflat-02.SPE.fits\n",
      "processed CCDlab_data/flat-1024.SPE.fits >> pflat-1024.SPE.fits\n"
     ]
    }
   ],
   "source": [
    "processed_images = []\n",
    "\n",
    "for file_path in raw_file_list:\n",
    "    out_name = image_processor(file_path,bias_data,flat_data)\n",
    "    print('processed %s >> %s' %(file_path,out_name))\n",
    "    processed_images.append(out_name)"
   ]
  },
  {
   "cell_type": "markdown",
   "metadata": {},
   "source": [
    "## STEP 3: Get statistics of processed images.\n",
    "\n",
    "For each image, we would like to know the exposure time (aka integration time) and the mean and standard deviation of the counts in the image. Exposure time can be read from the header, and the mean and standard deviation will be measured from a sub-region of the images (known as *image slicing*). "
   ]
  },
  {
   "cell_type": "code",
   "execution_count": 12,
   "metadata": {},
   "outputs": [
    {
     "name": "stdout",
     "output_type": "stream",
     "text": [
      "Statistics of processed images:\n",
      "     Image Name      e-time      mean       std\n",
      "pflat-01.SPE.fits      0.1       46.358      3.868\n",
      "pflat-02.SPE.fits      0.2      106.188      5.947\n",
      "pflat-04.SPE.fits      0.4      200.548      7.604\n",
      "pflat-08.SPE.fits      0.8      406.235     11.435\n",
      "pflat-16.SPE.fits      1.6      779.140     15.390\n",
      "pflat-32.SPE.fits      3.2     1791.525     23.719\n",
      "pflat-64.SPE.fits      6.4     2864.222     32.128\n",
      "pflat-128.SPE.fits     12.8     6537.502     52.136\n",
      "pflat-256.SPE.fits     25.6     11979.090     83.415\n",
      "pflat-512.SPE.fits     51.2     25755.943    153.256\n",
      "pflat-1024.SPE.fits    102.4     48042.970    286.263\n",
      "pflat-2048.SPE.fits    204.8     59233.387   1026.710\n"
     ]
    }
   ],
   "source": [
    "# create lists to hold the output values\n",
    "etime_list = []\n",
    "mean_list = []\n",
    "std_list = []\n",
    "\n",
    "for filename in processed_images:\n",
    "    \n",
    "    fits_path = datadir + '/' + filename\n",
    "    image_data = pyfits.getdata(fits_path, ext=0)\n",
    "    image_header = pyfits.getheader(fits_path, ext=0)\n",
    "    \n",
    "    etime = image_header['EXPTIME'] # exposure, aka integration, time from header\n",
    "    region = image_data[100:120,100:120] # a small portion of the image\n",
    "    mean = np.mean(region)\n",
    "    std = np.std(region)\n",
    "    \n",
    "    etime_list.append(etime)\n",
    "    mean_list.append(mean)\n",
    "    std_list.append(std)\n",
    "    \n",
    "# let's sort by increasing exp time before printing\n",
    "sort_indx = np.argsort(etime_list)\n",
    "\n",
    "# sort all variables by these sorted indices\n",
    "processed_images = np.array(processed_images)\n",
    "etime_list = np.array(etime_list)\n",
    "mean_list = np.array(mean_list)\n",
    "std_list = np.array(std_list)\n",
    "\n",
    "processed_images = processed_images[sort_indx]\n",
    "etime_list = etime_list[sort_indx]\n",
    "mean_list = mean_list[sort_indx]\n",
    "std_list = std_list[sort_indx]\n",
    "\n",
    "# print out the values\n",
    "nfiles = processed_images.size\n",
    "print('Statistics of processed images:')\n",
    "# print('%13s %8s %8s %8s' %('Image Name', 'e-time', 'mean', \"std\"))\n",
    "print('     Image Name      e-time      mean       std')\n",
    "for n in range(nfiles):\n",
    "    print('%13s %8.1f     %8.3f   %8.3f' %(processed_images[n],etime_list[n],mean_list[n],std_list[n]))\n",
    "    "
   ]
  },
  {
   "cell_type": "markdown",
   "metadata": {},
   "source": [
    "## STEP 4: Test the linearity of the CCD\n",
    "\n",
    "How linear is the CCD's response to light? Plot the mean number of counts (y-axis) as a function of exposure time (x-axis). Use a log-log plot."
   ]
  },
  {
   "cell_type": "code",
   "execution_count": 13,
   "metadata": {},
   "outputs": [
    {
     "data": {
      "text/plain": [
       "[<matplotlib.lines.Line2D at 0x7fc4e1f3f630>]"
      ]
     },
     "execution_count": 13,
     "metadata": {},
     "output_type": "execute_result"
    },
    {
     "data": {
      "image/png": "[encoded data removed]",
      "text/plain": [
       "<Figure size 576x432 with 1 Axes>"
      ]
     },
     "metadata": {},
     "output_type": "display_data"
    }
   ],
   "source": [
    "# set up figure\n",
    "plt.figure()\n",
    "plt.title('Figure 1: CCD Linearity')\n",
    "plt.xlabel('log(exposure time) [s]')\n",
    "plt.ylabel('log(mean counts) [adu]')\n",
    "plt.xscale('log')\n",
    "plt.yscale('log')\n",
    "plt.grid(True)\n",
    "\n",
    "# plot data\n",
    "plt.plot(etime_list,mean_list,'bo:')"
   ]
  },
  {
   "cell_type": "markdown",
   "metadata": {},
   "source": [
    "## **Question 2:**\n",
    "#### **Based on the given questions, describe the linear behaviour of the CCD**\n",
    "\n",
    "Is the graph linear? Where and why does this linearity break down? What is the slope of this line? What does the slope tell you?\n",
    "\n",
    "The graph might be a bit curved in the middle as can be seen, but the general shape of it is linear. The slope represents a 1:1 ratio between the photons entering the CCD and those being created. This slope should be √1/2, which corresponds to S/N = √t from Eqn 4.3 in the lab manual."
   ]
  },
  {
   "cell_type": "markdown",
   "metadata": {},
   "source": [
    "## Step 5: Determine the gain of the CCD\n",
    "\n",
    "We will plot the mean number of counts (x-axis) versus the variance (y-axis). After plotting, use the linear part to find the gain (use images with longer exposure times, but without saturation)."
   ]
  },
  {
   "cell_type": "markdown",
   "metadata": {},
   "source": [
    "## IMPORTANT: In the plot above, we notice the trend levels off which is due to saturation. Therefore, for the remaining part of the lab, we will not use those points\n",
    "\n",
    "#### EXERCISE: LOOK AT THE PLOT, AND DECIDE HOW MANY POINTS YOU WISH TO TRIM"
   ]
  },
  {
   "cell_type": "code",
   "execution_count": 14,
   "metadata": {},
   "outputs": [],
   "source": [
    "# Trim off the last six points\n",
    "mu_vect = mean_list[:-6]\n",
    "sdev_vect = std_list[:-6]"
   ]
  },
  {
   "cell_type": "code",
   "execution_count": 15,
   "metadata": {},
   "outputs": [
    {
     "name": "stdout",
     "output_type": "stream",
     "text": [
      "Gain value: 3.19\n"
     ]
    },
    {
     "data": {
      "image/png": "[encoded data removed]",
      "text/plain": [
       "<Figure size 576x432 with 1 Axes>"
      ]
     },
     "metadata": {},
     "output_type": "display_data"
    }
   ],
   "source": [
    "# Calculate the variance\n",
    "variance = np.multiply(sdev_vect,sdev_vect)\n",
    "\n",
    "plt.figure()\n",
    "plt.title('Figure 2: CCD Gain')\n",
    "plt.xlabel('Mean Counts [ADU]')\n",
    "plt.ylabel('Variance [ADU]')\n",
    "plt.plot(mu_vect,variance,'bo--', linewidth=2, markersize=6) \n",
    "\n",
    "## Calculate the gain using 'rise over run'\n",
    "SLOPE = (variance[-1]-variance[0])/(mu_vect[-1]-mu_vect[0])\n",
    "GAIN_VALUE = 1./SLOPE\n",
    "print('Gain value: %.2f' % GAIN_VALUE)"
   ]
  },
  {
   "cell_type": "code",
   "execution_count": 16,
   "metadata": {},
   "outputs": [
    {
     "name": "stdout",
     "output_type": "stream",
     "text": [
      "Gain value [FIT]: 3.19\n"
     ]
    },
    {
     "data": {
      "text/plain": [
       "[<matplotlib.lines.Line2D at 0x7fc4e1d9c9e8>]"
      ]
     },
     "execution_count": 16,
     "metadata": {},
     "output_type": "execute_result"
    },
    {
     "data": {
      "image/png": "[encoded data removed]",
      "text/plain": [
       "<Figure size 576x432 with 1 Axes>"
      ]
     },
     "metadata": {},
     "output_type": "display_data"
    }
   ],
   "source": [
    "## We will also do a linear fit to the data to determine the gain\n",
    "(SLOPE_FIT,INTERCEPT) = np.polyfit(mu_vect,variance,1)\n",
    "GAIN_VALUE_FIT = 1./SLOPE_FIT\n",
    "print('Gain value [FIT]: %.2f' % GAIN_VALUE_FIT)\n",
    "\n",
    "## Also replot the CCD Gain plot with the fit overplotted\n",
    "plt.figure()\n",
    "plt.title('Figure 2a: CCD Gain as fitted')\n",
    "plt.xlabel('Mean Counts [ADU]')\n",
    "plt.ylabel('Variance [ADU]')\n",
    "plt.plot(mu_vect,variance,'bo--', linewidth=2, markersize=6) \n",
    "\n",
    "## Use the fitted parameters to generate the fitted line\n",
    "mu_gen = np.arange(mu_vect[0],mu_vect[-1],25)\n",
    "var_gen = np.multiply(SLOPE_FIT,mu_gen) + INTERCEPT\n",
    "plt.plot(mu_gen,var_gen,'g--', linewidth=2, markersize=6) "
   ]
  },
  {
   "cell_type": "markdown",
   "metadata": {},
   "source": [
    "### **IN THE PLOT ABOVE, YOU CAN SEE THE FIT IS NOT VERY GOOD. TRY TRIMMING OFF POINTS AT EITHER END AND SEE IF YOU CAN IMPROVE IT, AND THUS DETERMINE A BETTER GAIN VALUE**"
   ]
  },
  {
   "cell_type": "markdown",
   "metadata": {},
   "source": [
    "## **Step 6: Examine the noise characteristics of the CCD**\n",
    "\n",
    "First convert the mean and standard deviation from counts to electrons by multiplying by the _gain_. Then plot the _signal_ (N_e), versus the _noise_ (S_e). Use a log-log plot.\n",
    "\n",
    "**NOTE** \n",
    "1. Here we are using S_e to refer to the noise, $\\sigma$_e in Equation 5.4\n",
    "2. You have to complete the cells above and Figure 2 in order to determine the value of _gain_.\n"
   ]
  },
  {
   "cell_type": "code",
   "execution_count": 17,
   "metadata": {},
   "outputs": [
    {
     "data": {
      "text/plain": [
       "[<matplotlib.lines.Line2D at 0x7fc4e1c9f7f0>]"
      ]
     },
     "execution_count": 17,
     "metadata": {},
     "output_type": "execute_result"
    },
    {
     "data": {
      "image/png": "[encoded data removed]",
      "text/plain": [
       "<Figure size 576x432 with 1 Axes>"
      ]
     },
     "metadata": {},
     "output_type": "display_data"
    }
   ],
   "source": [
    "## ENTER THE CORRECT VALUE OF GAIN IN THE LINE BELOW BEFORE RUNNING THIS CELL\n",
    "GAIN_VALUE = 3.19\n",
    "\n",
    "N_e = np.multiply(mu_vect, GAIN_VALUE) ## THIS IS THE SIGNAL\n",
    "S_e = np.multiply(sdev_vect, GAIN_VALUE) ## THIS IS THE NOISE\n",
    "\n",
    "## create a log-log plot of signal, N_e versus noise, S_e. \n",
    "## Use the template given above for creating this plot\n",
    "## Use the proper axis labels and title\n",
    "\n",
    "plt.figure()\n",
    "plt.title('Figure 3: Signal to Noise plot')\n",
    "plt.xlabel('N_e [e-]')\n",
    "plt.ylabel('S_e [e-]')\n",
    "\n",
    "## THIS CREATES A SIMPLE SCATTER PLOT\n",
    "plt.scatter(N_e,S_e) \n",
    "\n",
    "## THIS CREATES A LOG-LOG PLOT\n",
    "plt.loglog(N_e,S_e,'bo--', linewidth=2, markersize=6) "
   ]
  },
  {
   "cell_type": "markdown",
   "metadata": {},
   "source": [
    "## **Question 3:**\n",
    "\n",
    "**NOTE** YOU HAVE TO COMPLETE THE PLOT IN THE PREVIOUS CELL BEFORE YOU CAN ANSWER THIS QUESTION!\n",
    "\n",
    "What value did you use for the gain? What are your values for N_e and S_e? (use a print statement in the cell below to print out these values neatly)\n"
   ]
  },
  {
   "cell_type": "code",
   "execution_count": 22,
   "metadata": {
    "scrolled": true
   },
   "outputs": [
    {
     "name": "stdout",
     "output_type": "stream",
     "text": [
      "Signal 147.880425 Noise 12.340268233283057\n",
      "Signal 338.73812499999997 Noise 18.972414375465632\n",
      "Signal 639.746525 Noise 24.25821310761316\n",
      "Signal 1295.88965 Noise 36.47842412820899\n",
      "Signal 2485.4566 Noise 49.09496019389363\n",
      "Signal 5714.96475 Noise 75.6621584210859\n",
      "\n",
      "The value used for the gain is 3.19\n"
     ]
    }
   ],
   "source": [
    "## USE A FOR LOOP TO PRINT OUT EACH VALUE OF N_e AND S_e SIDE BY SIDE\n",
    "## USE A FORMATTED PRINT STATEMENT (SEE CODE STATEMENTS ABOVE\n",
    "i=0\n",
    "while i<np.size(S_e):\n",
    "    print(\"Signal\",N_e[i],\"Noise\",S_e[i])\n",
    "    i=i+1\n",
    "print(\"\\nThe value used for the gain is 3.19\")"
   ]
  },
  {
   "cell_type": "code",
   "execution_count": 23,
   "metadata": {},
   "outputs": [
    {
     "name": "stdout",
     "output_type": "stream",
     "text": [
      "Slope and intercept of low SN region: 0.49 0.03\n",
      "Slope and intercept of high SN region: 0.25 0.85\n"
     ]
    },
    {
     "name": "stderr",
     "output_type": "stream",
     "text": [
      "/opt/conda/lib/python3.7/site-packages/IPython/core/interactiveshell.py:3326: RankWarning: Polyfit may be poorly conditioned\n",
      "  exec(code_obj, self.user_global_ns, self.user_ns)\n"
     ]
    }
   ],
   "source": [
    "## Low signal\n",
    "mu_lowSN = np.log10(N_e[0:4])\n",
    "sdev_lowSN = np.log10(S_e[0:4])\n",
    "(SLOPE_FIT_lowSN,INTERCEPT_lowSN) = np.polyfit(mu_lowSN,sdev_lowSN,1)\n",
    "print('Slope and intercept of low SN region: %.2f %.2f' %\n",
    "      (SLOPE_FIT_lowSN,INTERCEPT_lowSN))\n",
    "## High signal\n",
    "mu_highSN = np.log10(N_e[4:-1])\n",
    "sdev_highSN = np.log10(S_e[4:-1])\n",
    "(SLOPE_FIT_highSN,INTERCEPT_highSN) = np.polyfit(mu_highSN,sdev_highSN,1)\n",
    "print('Slope and intercept of high SN region: %.2f %.2f' %\n",
    "      (SLOPE_FIT_highSN,INTERCEPT_highSN))"
   ]
  },
  {
   "cell_type": "markdown",
   "metadata": {},
   "source": [
    "## **Question 4:**\n",
    "\n",
    "What is the log-log plot of N_e versus S_e showing, qualitatively? (i.e. how does the noise change with increased signal, or, equivalently, exposure time?) \n",
    "\n",
    "With increased noise, increased signal occurs. With time, increased signal and noise take place."
   ]
  },
  {
   "cell_type": "code",
   "execution_count": 24,
   "metadata": {},
   "outputs": [
    {
     "name": "stdout",
     "output_type": "stream",
     "text": [
      "Read noise: 1.035142166679344\n"
     ]
    }
   ],
   "source": [
    "Read_noise = np.sqrt(10**0.03)\n",
    "print(\"Read noise:\", Read_noise)"
   ]
  },
  {
   "cell_type": "markdown",
   "metadata": {},
   "source": [
    "## **Step 7: Determine the Read Noise of the CCD**\n",
    "\n",
    "#### **We will use Equation 4.4 to determine the Read Noise\n",
    "\n",
    "Plot the variance versus the signal (with both being in numbers of electrons). The slope is the inverse of the gain, while the intercept is the square of the read noise.\n",
    "\n",
    "**NOTE** Assume that the dark current is negligible."
   ]
  },
  {
   "cell_type": "code",
   "execution_count": 25,
   "metadata": {},
   "outputs": [
    {
     "name": "stdout",
     "output_type": "stream",
     "text": [
      "Read noise: 5.4325033149243325\n",
      "Gain value [FIT]: 3.19\n",
      "Squared Read noise [e-]: -8.49\n"
     ]
    },
    {
     "ename": "NameError",
     "evalue": "name 'SNR' is not defined",
     "output_type": "error",
     "traceback": [
      "\u001b[0;31m---------------------------------------------------------------------------\u001b[0m",
      "\u001b[0;31mNameError\u001b[0m                                 Traceback (most recent call last)",
      "\u001b[0;32m<ipython-input-25-3debc182df01>\u001b[0m in \u001b[0;36m<module>\u001b[0;34m\u001b[0m\n\u001b[1;32m     28\u001b[0m \u001b[0mplt\u001b[0m\u001b[0;34m.\u001b[0m\u001b[0mxlabel\u001b[0m\u001b[0;34m(\u001b[0m\u001b[0;34m'N_e [e-]'\u001b[0m\u001b[0;34m)\u001b[0m\u001b[0;34m\u001b[0m\u001b[0;34m\u001b[0m\u001b[0m\n\u001b[1;32m     29\u001b[0m \u001b[0mplt\u001b[0m\u001b[0;34m.\u001b[0m\u001b[0mylabel\u001b[0m\u001b[0;34m(\u001b[0m\u001b[0;34m'SNR [-]'\u001b[0m\u001b[0;34m)\u001b[0m\u001b[0;34m\u001b[0m\u001b[0;34m\u001b[0m\u001b[0m\n\u001b[0;32m---> 30\u001b[0;31m \u001b[0mplt\u001b[0m\u001b[0;34m.\u001b[0m\u001b[0mloglog\u001b[0m\u001b[0;34m(\u001b[0m\u001b[0mN_e\u001b[0m\u001b[0;34m,\u001b[0m\u001b[0mSNR\u001b[0m\u001b[0;34m,\u001b[0m\u001b[0;34m'bo--'\u001b[0m\u001b[0;34m,\u001b[0m \u001b[0mlinewidth\u001b[0m\u001b[0;34m=\u001b[0m\u001b[0;36m2\u001b[0m\u001b[0;34m,\u001b[0m \u001b[0mmarkersize\u001b[0m\u001b[0;34m=\u001b[0m\u001b[0;36m6\u001b[0m\u001b[0;34m)\u001b[0m\u001b[0;34m\u001b[0m\u001b[0;34m\u001b[0m\u001b[0m\n\u001b[0m",
      "\u001b[0;31mNameError\u001b[0m: name 'SNR' is not defined"
     ]
    },
    {
     "data": {
      "image/png": "[encoded data removed]",
      "text/plain": [
       "<Figure size 576x432 with 1 Axes>"
      ]
     },
     "metadata": {},
     "output_type": "display_data"
    },
    {
     "data": {
      "image/png": "[encoded data removed]",
      "text/plain": [
       "<Figure size 576x432 with 1 Axes>"
      ]
     },
     "metadata": {},
     "output_type": "display_data"
    }
   ],
   "source": [
    "var_e = np.multiply(S_e,S_e)\n",
    "Read_noise=np.sqrt(10**1.47)\n",
    "print(\"Read noise:\", Read_noise)\n",
    "\n",
    "## We will also do a linear fit to the data to determine the gain\n",
    "(SLOPE_FIT_e,INTERCEPT_e) = np.polyfit(N_e,var_e,1)\n",
    "GAIN_VALUE_e = 1./SLOPE_FIT_e\n",
    "sqrd_rd_noise_e = INTERCEPT_e\n",
    "print('Gain value [FIT]: %.2f' % GAIN_VALUE_FIT)\n",
    "print('Squared Read noise [e-]: %.2f' % sqrd_rd_noise_e)\n",
    "\n",
    "## Also replot the CCD Gain plot with the fit overplotted\n",
    "plt.figure()\n",
    "plt.title('Figure 4: Signal vs Variance [e-]')\n",
    "plt.xlabel('Mean Counts [e-]')\n",
    "plt.ylabel('Variance [e-]')\n",
    "plt.plot(N_e,var_e,'bo--', linewidth=2, markersize=6) \n",
    "\n",
    "## Use the fitted parameters to generate the fitted line\n",
    "mu_gen = np.arange(N_e[0],N_e[-1],25)\n",
    "var_gen = np.multiply(SLOPE_FIT_e,mu_gen) + INTERCEPT_e\n",
    "plt.plot(mu_gen,var_gen,'g--', linewidth=2, markersize=6) \n",
    "\n",
    "## THIS CREATES A LOG-LOG PLOT\n",
    "# plt.loglog(N_e,S_e,'bo--', linewidth=2, markersize=6)\n",
    "plt.figure()\n",
    "plt.title('Figure 3: SNR plot')\n",
    "plt.xlabel('N_e [e-]')\n",
    "plt.ylabel('SNR [-]')\n",
    "plt.loglog(N_e,SNR,'bo--', linewidth=2, markersize=6)"
   ]
  },
  {
   "cell_type": "markdown",
   "metadata": {},
   "source": [
    "## **Question 5:**\n",
    "\n",
    "##ESTIMATE THE READ NOISE**\n",
    "##Assuming that the _dark current_ is negligible, use this graph and Equation (4.4) in your lab manual to estimate the read noise. Explain your reasoning."
   ]
  },
  {
   "cell_type": "code",
   "execution_count": 26,
   "metadata": {},
   "outputs": [
    {
     "name": "stdout",
     "output_type": "stream",
     "text": [
      "Read_Noise: 1.035142166679344\n"
     ]
    }
   ],
   "source": [
    "## By setting t=0, tbe \n",
    "\n",
    "Read_Noise=np.sqrt(10**0.03)\n",
    "print(\"Read_Noise:\",Read_Noise)"
   ]
  },
  {
   "cell_type": "markdown",
   "metadata": {},
   "source": [
    "## **Step 8: Examine the relative noise (i.e. the S/N in Equation 4.5)**\n",
    "\n",
    "**Calculate the Signal to Noise ratio, SNR** (given as S/N in Equation 4.5, and N/S in Step 5 in your manual)\n",
    "\n"
   ]
  },
  {
   "cell_type": "code",
   "execution_count": 27,
   "metadata": {},
   "outputs": [
    {
     "data": {
      "text/plain": [
       "[<matplotlib.lines.Line2D at 0x7fc4e1a1c908>]"
      ]
     },
     "execution_count": 27,
     "metadata": {},
     "output_type": "execute_result"
    },
    {
     "data": {
      "image/png": "[encoded data removed]",
      "text/plain": [
       "<Figure size 576x432 with 1 Axes>"
      ]
     },
     "metadata": {},
     "output_type": "display_data"
    }
   ],
   "source": [
    "# calculate the signal-to-noise ratio\n",
    "SNR = N_e/S_e\n",
    "\n",
    "## Create a log-log plot of SNR versus signal, N_e. \n",
    "## Use the template given above for creating this plot\n",
    "## Use the proper axis labels and title\n",
    "\n",
    "## THIS CREATES A LOG-LOG PLOT\n",
    "plt.figure()\n",
    "plt.title('Figure 3: SNR plot')\n",
    "plt.xlabel('N_e [e-]')\n",
    "plt.ylabel('SNR [-]')\n",
    "plt.loglog(N_e,SNR,'bo--', linewidth=2, markersize=6) "
   ]
  },
  {
   "cell_type": "markdown",
   "metadata": {},
   "source": [
    "## **Question 6:**\n",
    "\n",
    "**NOTE** YOU HAVE TO COMPLETE THE PLOT IN THE PREVIOUS CELL BEFORE YOU CAN ANSWER QUESTION 5!\n",
    "\n",
    "Qualitatively, what is this plot showing? Use a print statement (in the cell below) to print out the corresponding values of SNR and N_e . \n",
    "\n",
    "**ADDITIONAL QUESTION (1)** How many photons would need to hit the detector in order to get SNR = 100? Show your calculation in the cell below and explain. (HINT: Use the SNR plot and Equation 4.5)"
   ]
  },
  {
   "cell_type": "code",
   "execution_count": 28,
   "metadata": {},
   "outputs": [
    {
     "name": "stdout",
     "output_type": "stream",
     "text": [
      "signal 147.880425 Signal/Noise 11.983566499887765\n",
      "signal 338.73812499999997 Signal/Noise 17.854244499215795\n",
      "signal 639.746525 Signal/Noise 26.372368078472483\n",
      "signal 1295.88965 Signal/Noise 35.5248254542301\n",
      "signal 2485.4566 Signal/Noise 50.62549374078397\n",
      "signal 5714.96475 Signal/Noise 75.53266876414307\n"
     ]
    }
   ],
   "source": [
    "## USE A FOR LOOP TO PRINT OUT EACH VALUE OF N_e AND SNR SIDE BY SIDE\n",
    "## USE A FORMATTED PRINT STATEMENT (SEE CODE STATEMENTS ABOVE)\n",
    "i=0\n",
    "while i<np.size(SNR):\n",
    "    print(\"signal\", N_e[i], \"Signal/Noise\", SNR[i])\n",
    "    i = i+1"
   ]
  },
  {
   "cell_type": "markdown",
   "metadata": {},
   "source": [
    "## **Step 9: Calculate the theoretical noise**\n",
    "\n",
    "Calculate the theoretical noise using Equation (4.4) given in your lab manual. Neglect the dark current term, Dt = 0\n",
    "\n",
    "## **NOTE** You have to determine the value of _read noise, R_ using the plot in Figure 3.\n"
   ]
  },
  {
   "cell_type": "code",
   "execution_count": 29,
   "metadata": {
    "scrolled": true
   },
   "outputs": [
    {
     "name": "stdout",
     "output_type": "stream",
     "text": [
      "Theoretical Noise 12.205 Measured Noise 12.340268233283057\n",
      "Theoretical Noise 18.434199874146962 Measured Noise 18.972414375465632\n",
      "Theoretical Noise 25.314583247606507 Measured Noise 24.25821310761316\n",
      "Theoretical Noise 36.01348705693466 Measured Noise 36.47842412820899\n",
      "Theoretical Noise 49.86520029038287 Measured Noise 49.09496019389363\n",
      "Theoretical Noise 75.60453921557885 Measured Noise 75.6621584210859\n"
     ]
    }
   ],
   "source": [
    "## Theoretical noise using Equation 4.4\n",
    "\n",
    "## NOTE: YOU NEED TO ENTER THE CORRECT VALUE OF READ NOISE HERE\n",
    "## USE A FOR LOOP TO PRINT OUT EACH VALUE OF S_e_theo AND \n",
    "## THE MEASURED NOISE VALUE, S_e SIDE BY SIDE\n",
    "## USE A FORMATTED PRINT STATEMENT (SEE CODE STATEMENTS ABOVE)\n",
    "\n",
    "R=1.04\n",
    "S_e_theor=np.sqrt(N_e+R*R)\n",
    "\n",
    "i=0\n",
    "while i<np.size(S_e_theor):\n",
    "    print(\"Theoretical Noise\",S_e_theor[i],\"Measured Noise\",S_e[i] ) \n",
    "    i=i+1"
   ]
  },
  {
   "cell_type": "markdown",
   "metadata": {},
   "source": [
    "## **Question 7:**\n",
    "\n",
    "Print out the theoretical noise values, S_e_theo, and the corresponding measured noise values, S_e,  in the code cell above. How do they compare to the measured values? Is there a trend with exposure time? What does this discrepancy imply? Do you think including dark current would make a difference?\n",
    "\n",
    "Dark currents require a longer exposure time in order for us to see their effects. Taking into consideration the amount of exposure times for this lab, it was not enough to make a difference and will only be a small source of error."
   ]
  },
  {
   "cell_type": "markdown",
   "metadata": {},
   "source": [
    "## Step 10: Is this a Poisson process?\n",
    "\n",
    "To answer this, fit a straight line to log(N_e) versus log(S_e)"
   ]
  },
  {
   "cell_type": "code",
   "execution_count": 30,
   "metadata": {},
   "outputs": [
    {
     "name": "stdout",
     "output_type": "stream",
     "text": [
      "Slope of log_SN: 0.49\n"
     ]
    }
   ],
   "source": [
    "## Let's fit a line to log(N_e) vs log(S_e)\n",
    "log_Ne = np.log10(N_e)\n",
    "log_Se = np.log10(S_e)\n",
    "(SLOPE_SN,INTERCEPT_SN) = np.polyfit(log_Ne,log_Se,1)\n",
    "print('Slope of log_SN: %.2f' % SLOPE_SN)"
   ]
  },
  {
   "cell_type": "markdown",
   "metadata": {},
   "source": [
    "## **Question 8:**\n",
    "\n",
    "Based on all this result, is this a Poissonian process? Explain.\n",
    "\n",
    "It is not a Poisson distribution because the noise is not equal to the sqrt(signal)."
   ]
  },
  {
   "cell_type": "markdown",
   "metadata": {},
   "source": [
    "# **ADDITIONAL QUESTIONS**\n",
    "\n",
    "Answer the three additional questions in code cells below (INSERT NEW CODE CELLS AS NEEDED) or on a separate sheet of paper and submit it along with the marking rubric for marking.\n"
   ]
  }
 ],
 "metadata": {
  "kernelspec": {
   "display_name": "Python 3",
   "language": "python",
   "name": "python3"
  },
  "language_info": {
   "codemirror_mode": {
    "name": "ipython",
    "version": 3
   },
   "file_extension": ".py",
   "mimetype": "text/x-python",
   "name": "python",
   "nbconvert_exporter": "python",
   "pygments_lexer": "ipython3",
   "version": "3.7.3"
  }
 },
 "nbformat": 4,
 "nbformat_minor": 2
}
